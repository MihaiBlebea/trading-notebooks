{
 "cells": [
  {
   "cell_type": "markdown",
   "metadata": {},
   "source": [
    "# Which one should I invest in?"
   ]
  },
  {
   "cell_type": "markdown",
   "metadata": {},
   "source": [
    "- Current Ratio - should be greater than 1.5 - it compares the current assets against the current liabilities\n",
    "\n",
    "- Price / Book Ratio (P/B) - should be < 3 - shows the difference between the market value of a company and its current value\n",
    "\n",
    "- PEG Ratio - should be < 1 (means great) or < 3 (means good) - PEG less than one is considered undervalued, as the price is low compared to the company's expected earnings growth. Like P/E but including the growth factor.\n",
    "\n",
    "- Dividends Payout - should be < 60% (0.6) - highlights if the company will be able to pay its dividends to shareholders."
   ]
  },
  {
   "cell_type": "code",
   "execution_count": 5,
   "metadata": {},
   "outputs": [
    {
     "name": "stdout",
     "output_type": "stream",
     "text": [
      "                                   NVDA     AMD     INTC     TSLA\n",
      "52 Week High 3                   346.47  164.46    68.49  1243.49\n",
      "52 Week Low 3                    127.05   72.50    43.63   546.98\n",
      "52-Week Change 3                119.23%  58.21%  -19.23%   71.78%\n",
      "S&P500 52-Week Change 3          14.71%  14.71%   14.71%   14.71%\n",
      "Beta (5Y Monthly)                  1.41    1.85     0.55     2.05\n",
      "Current Ratio (mrq)                6.65    2.02     2.10     1.38\n",
      "Operating Cash Flow (ttm)         9.11B   3.52B   29.99B    11.5B\n",
      "Quarterly Revenue Growth (yoy)   52.80%  48.80%    2.80%   64.90%\n",
      "Revenue Per Share (ttm)           10.78   13.55    19.47    54.59\n",
      "Payout Ratio 4                    4.16%   0.00%   28.60%    0.00%\n",
      "Book Value Per Share (mrq)        10.62    6.21    23.44    29.23\n",
      "Operating Margin (ttm)           37.31%  22.20%   27.94%   12.12%\n"
     ]
    }
   ],
   "source": [
    "import warnings\n",
    "warnings.simplefilter(action=\"ignore\", category=FutureWarning)\n",
    "\n",
    "from yahoo_fin import stock_info\n",
    "import pandas as pd\n",
    "from pprint import pprint\n",
    "\n",
    "symbols = [\"NVDA\", \"AMD\", \"INTC\", \"TSLA\"]\n",
    "\n",
    "keys = [\n",
    "\t\"52 Week High 3\", \n",
    "\t\"52 Week Low 3\",\n",
    "\t\"52-Week Change 3\",\n",
    "\t\"S&P500 52-Week Change 3\",\n",
    "\t\"Beta (5Y Monthly)\",\n",
    "\t\"Current Ratio (mrq)\", \n",
    "\t\"Operating Cash Flow (ttm)\", \n",
    "\t\"Quarterly Revenue Growth (yoy)\",\n",
    "\t\"Revenue Per Share (ttm)\",\n",
    "\t\"Payout Ratio 4\",\n",
    "\t\"Book Value Per Share (mrq)\",\n",
    "\t\"Operating Margin (ttm)\",\n",
    "\t\"Profit Margin\",\n",
    "]\n",
    "\n",
    "data = {}\n",
    "for s in symbols:\n",
    "\tdata[s] = []\n",
    "\n",
    "for s in symbols:\n",
    "\tstats = stock_info.get_stats(s.upper())\n",
    "\tattributes = {v: k for k, v in stats.to_dict()[\"Attribute\"].items()}\n",
    "\tdata[s] = [ stats[\"Value\"][attributes[k]] for k in keys ]\n",
    "\n",
    "df = pd.DataFrame(data=data, index=keys)\n",
    "print(df)\n"
   ]
  },
  {
   "cell_type": "markdown",
   "metadata": {},
   "source": [
    "## Revenue Per Share\n",
    "\n",
    "- Sales per share is a financial ratio that measures the total revenue earned per share over a specific time period.\n",
    "\n",
    "- To calculate sales per share, divided total revenue by the average total shares outstanding.\n",
    "\n",
    "- Sales per share provides a quick glance in identifying a company's productivity per share outstanding. The higher the sales-per-share ratio, the better a company is typically performing.\n",
    "\n",
    "- Investors and analysts use sales per share to compare companies in a similar sector and to compare how the company is performing over different periods of time.\n",
    "\n",
    "- Sales per share can be a limiting number as it only provides insight into a company's revenues, and does not take into consideration any debt or expenses on how those revenues were achieved.\n",
    "\n",
    "[Read more](https://www.investopedia.com/terms/s/salespershare.asp)"
   ]
  },
  {
   "cell_type": "markdown",
   "metadata": {},
   "source": [
    "## Beta\n",
    "\n",
    "Beta is a measure used in fundamental analysis to determine the volatility of an asset or portfolio in relation to the overall market. The overall market has a beta of 1.0, and individual stocks are ranked according to how much they deviate from the market.\n",
    "\n",
    "A stock that swings more than the market over time has a beta greater than 1.0. If a stock moves less than the market, the stock's beta is less than 1.0. High-beta stocks tend to be riskier but provide the potential for higher returns. Low-beta stocks pose less risk but typically yield lower returns.\n",
    "\n",
    "As a result, beta is often used as a risk-reward measure, meaning it helps investors determine how much risk they are willing to take to achieve the return for taking on that risk. A stock's price variability is important to consider when assessing risk. If you think of risk as the possibility of a stock losing its value, beta is useful as a proxy for risk.\n",
    "\n",
    "Essentially, beta expresses the trade-off between minimizing risk and maximizing return. Say a company has a beta of 2. This means it is two times as volatile as the overall market. We expect the market overall to go up by 10%. That means this stock could rise by 20%. On the other hand, if the market declines 6%, investors in that company can expect a loss of 12%.\n",
    "\n",
    "[Read more](https://www.investopedia.com/ask/answers/070615/what-formula-calculating-beta.asp)"
   ]
  },
  {
   "cell_type": "markdown",
   "metadata": {},
   "source": [
    "## Payout Ratio\n",
    "\n",
    "*(Or dividend payout ratio)*\n",
    "\n",
    "The payout ratio is a financial metric showing the proportion of earnings a company pays its shareholders in the form of dividends, expressed as a percentage of the company's total earnings. On some occasions, the payout ratio refers to the dividends paid out as a percentage of a company's cash flow. The payout ratio is also known as the dividend payout ratio.\n",
    "\n",
    "- The payout ratio, also known as the dividend payout ratio, shows the percentage of a company's earnings paid out as dividends to shareholders.\n",
    "\n",
    "- A low payout ratio can signal that a company is reinvesting the bulk of its earnings into expanding operations.\n",
    "\n",
    "- A payout ratio over 100% indicates that the company is paying out more in dividends than its earning can support, which some view as an unsustainable practice.\n",
    "\n",
    "[Read more](https://www.investopedia.com/terms/p/payoutratio.asp)"
   ]
  },
  {
   "cell_type": "markdown",
   "metadata": {},
   "source": [
    "## Book Value Per Share\n",
    "\n",
    "- Book value per share (BVPS) takes the ratio of a firm's common equity divided by its number of shares outstanding.\n",
    "\n",
    "- Book value of equity per share effectively indicates a firm's net asset value (total assets - total liabilities) on a per-share basis.\n",
    "\n",
    "- When a stock is undervalued, it will have a higher book value per share in relation to its current stock price in the market.\n",
    "\n",
    "- BVPS is used mainly by stock investors to evaluate a company's stock price.\n",
    "\n",
    "[Read more](https://www.investopedia.com/terms/b/bvps.asp)"
   ]
  },
  {
   "cell_type": "markdown",
   "metadata": {},
   "source": [
    "## Operating Margin\n",
    "\n",
    "The operating margin measures how much profit a company makes on a dollar of sales after paying for variable costs of production, such as wages and raw materials, but before paying interest or tax. It is calculated by dividing a company’s operating income by its net sales. Higher ratios are generally better, illustrating the company is efficient in its operations and is good at turning sales into profits.\n",
    "\n",
    "- The operating margin represents how efficiently a company is able to generate profit through its core operations.\n",
    "\n",
    "- It is expressed on a per-sale basis after accounting for variable costs but before paying any interest or taxes (EBIT).\n",
    "\n",
    "- Higher margins are considered better than lower margins, and can be compared between similar competitors but not across different industries.\n",
    "\n",
    "- To calculate the operating margin, divide operating income (earnings) by sales (revenues).\n",
    "\n",
    "[Read more](https://www.investopedia.com/terms/o/operatingmargin.asp)"
   ]
  },
  {
   "cell_type": "markdown",
   "metadata": {},
   "source": [
    "## Dividend Yeld\n",
    "\n",
    "The dividend yield, expressed as a percentage, is a financial ratio (dividend/price) that shows how much a company pays out in dividends each year relative to its stock price.\n",
    "\n",
    "- The dividend yield—displayed as a percentage—is the amount of money a company pays shareholders for owning a share of its stock divided by its current stock price.\n",
    "\n",
    "- Mature companies are the most likely to pay dividends.\n",
    "\n",
    "- Companies in the utility and consumer staple industries often having higher dividend yields. \n",
    "\n",
    "- Real estate investment trusts (REITs), master limited partnerships (MLPs), and business development companies (BDCs) pay higher than average dividends; however, the dividends from these companies are taxed at a higher rate. \n",
    "\n",
    "- It's important for investors to keep in mind that higher dividend yields do not always indicate attractive investment opportunities because the dividend yield of a stock may be elevated as the result of a declining stock price. \n",
    "\n",
    "[Read more](https://www.investopedia.com/terms/d/dividendyield.asp)"
   ]
  },
  {
   "cell_type": "markdown",
   "metadata": {},
   "source": [
    "## Profit Margin\n",
    "\n",
    "Profit margin is one of the commonly used profitability ratios to gauge the degree to which a company or a business activity makes money. It represents what percentage of sales has turned into profits. Simply put, the percentage figure indicates how many cents of profit the business has generated for each dollar of sale. For instance, if a business reports that it achieved a 35% profit margin during the last quarter, it means that it had a net income of $0.35 for each dollar of sales generated.\n",
    "\n",
    "- Profit margin gauges the degree to which a company or a business activity makes money, essentially by dividing income by revenues.\n",
    "\n",
    "- Expressed as a percentage, profit margin indicates how many cents of profit has been generated for each dollar of sale.\n",
    "\n",
    "- While there are several types of profit margin, the most significant and commonly used is net profit margin, a company’s bottom line after all other expenses, including taxes and one-off oddities, have been removed from revenue.\n",
    "\n",
    "- Profit margins are used by creditors, investors, and businesses themselves as indicators of a company's financial health, management's skill, and growth potential.\n",
    "\n",
    "- As typical profit margins vary by industry sector, care should be taken when comparing the figures for different businesses.\n",
    "\n",
    "[Read more](https://www.investopedia.com/terms/p/profitmargin.asp)"
   ]
  },
  {
   "cell_type": "code",
   "execution_count": 6,
   "metadata": {},
   "outputs": [
    {
     "name": "stdout",
     "output_type": "stream",
     "text": [
      "                                          NVDA    AMD          INTC   TSLA\n",
      "Forward Annual Dividend Rate 4            0.16    NaN          1.46    NaN\n",
      "Forward Annual Dividend Yield 4          0.06%    NaN         2.83%    NaN\n",
      "Trailing Annual Dividend Rate 3           0.16   0.00          1.39   0.00\n",
      "Trailing Annual Dividend Yield 3         0.06%  0.00%         2.68%  0.00%\n",
      "Dividend Date 3                   Mar 23, 2022    NaN  Feb 28, 2022    NaN\n",
      "Payout Ratio 4                           4.16%  0.00%        28.60%  0.00%\n"
     ]
    }
   ],
   "source": [
    "keys = [\n",
    "\t\"Forward Annual Dividend Rate 4\",\n",
    "\t\"Forward Annual Dividend Yield 4\",\n",
    "\t\"Trailing Annual Dividend Rate 3\",\n",
    "\t\"Trailing Annual Dividend Yield 3\",\n",
    "\t\"Dividend Date 3\",\n",
    "\t\"Payout Ratio 4\"\n",
    "]\n",
    "\n",
    "data = {}\n",
    "for s in symbols:\n",
    "\tdata[s] = []\n",
    "\n",
    "for s in symbols:\n",
    "\tstats = stock_info.get_stats(s.upper())\n",
    "\tattributes = {v: k for k, v in stats.to_dict()[\"Attribute\"].items()}\n",
    "\tdata[s] = [ stats[\"Value\"][attributes[k]] for k in keys ]\n",
    "\n",
    "df = pd.DataFrame(data=data, index=keys)\n",
    "print(df)"
   ]
  }
 ],
 "metadata": {
  "interpreter": {
   "hash": "87f5e34333cbbe21596c7c1c9f3be8cfa6912ae548c87f6c71bfa9ae7dcd3558"
  },
  "kernelspec": {
   "display_name": "Python 3.9.7 ('env': venv)",
   "language": "python",
   "name": "python3"
  },
  "language_info": {
   "codemirror_mode": {
    "name": "ipython",
    "version": 3
   },
   "file_extension": ".py",
   "mimetype": "text/x-python",
   "name": "python",
   "nbconvert_exporter": "python",
   "pygments_lexer": "ipython3",
   "version": "3.9.7"
  },
  "orig_nbformat": 4
 },
 "nbformat": 4,
 "nbformat_minor": 2
}
