{
 "cells": [
  {
   "cell_type": "markdown",
   "metadata": {},
   "source": [
    "# Which one should I invest in?"
   ]
  },
  {
   "cell_type": "markdown",
   "metadata": {},
   "source": [
    "- Current Ratio - should be greater than 1.5 - it compares the current assets against the current liabilities\n",
    "\n",
    "- Price / Book Ratio (P/B) - should be < 3 - shows the difference between the market value of a company and its current value\n",
    "\n",
    "- PEG Ratio - should be < 1 (means great) or < 3 (means good) - PEG less than one is considered undervalued, as the price is low compared to the company's expected earnings growth. Like P/E but including the growth factor.\n",
    "\n",
    "- Dividends Payout - should be < 60% (0.6) - highlights if the company will be able to pay its dividends to shareholders."
   ]
  },
  {
   "cell_type": "code",
   "execution_count": null,
   "metadata": {},
   "outputs": [],
   "source": [
    "import warnings\n",
    "warnings.simplefilter(action=\"ignore\", category=FutureWarning)\n",
    "\n",
    "from yahoo_fin import stock_info\n",
    "import pandas as pd\n",
    "from pprint import pprint\n",
    "\n",
    "symbols = [\"NVDA\", \"AMD\", \"INTC\", \"TSLA\"]\n",
    "\n",
    "keys = [\n",
    "\t\"52 Week High 3\", \n",
    "\t\"52 Week Low 3\",\n",
    "\t\"52-Week Change 3\",\n",
    "\t\"Beta (5Y Monthly)\",\n",
    "\t\"Current Ratio (mrq)\", \n",
    "\t\"Operating Cash Flow (ttm)\", \n",
    "\t\"Quarterly Revenue Growth (yoy)\",\n",
    "\t\"Revenue Per Share (ttm)\",\n",
    "\t\"Quarterly Revenue Growth (yoy)\",\n",
    "\t\"Revenue Per Share (ttm)\",\n",
    "\t\"Payout Ratio 4\",\n",
    "\t\"Book Value Per Share (mrq)\"\n",
    "]\n",
    "\n",
    "data = {}\n",
    "for s in symbols:\n",
    "\tdata[s] = []\n",
    "\n",
    "for s in symbols:\n",
    "\tstats = stock_info.get_stats(s.upper())\n",
    "\tattributes = {v: k for k, v in stats.to_dict()[\"Attribute\"].items()}\n",
    "\tdata[s] = [ stats[\"Value\"][attributes[k]] for k in keys ]\n",
    "\n",
    "df = pd.DataFrame(data=data, index=keys)\n",
    "print(df)\n"
   ]
  }
 ],
 "metadata": {
  "interpreter": {
   "hash": "87f5e34333cbbe21596c7c1c9f3be8cfa6912ae548c87f6c71bfa9ae7dcd3558"
  },
  "kernelspec": {
   "display_name": "Python 3.9.7 ('env': venv)",
   "language": "python",
   "name": "python3"
  },
  "language_info": {
   "codemirror_mode": {
    "name": "ipython",
    "version": 3
   },
   "file_extension": ".py",
   "mimetype": "text/x-python",
   "name": "python",
   "nbconvert_exporter": "python",
   "pygments_lexer": "ipython3",
   "version": "3.9.7"
  },
  "orig_nbformat": 4
 },
 "nbformat": 4,
 "nbformat_minor": 2
}
