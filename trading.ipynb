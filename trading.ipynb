{
 "cells": [
  {
   "cell_type": "markdown",
   "metadata": {},
   "source": [
    "## Get S&P 500 month to month growth\n",
    "\n",
    "Define the functions that we will need to use"
   ]
  },
  {
   "cell_type": "code",
   "execution_count": 2,
   "metadata": {},
   "outputs": [],
   "source": [
    "from __future__ import annotations\n",
    "import yfinance as yf\n",
    "import pandas as pd\n",
    "\n",
    "\n",
    "def get_closing_prices(symbols: list)-> pd.Series | None:\n",
    "    try:\n",
    "        data = yf.download(\n",
    "            symbols,\n",
    "            interval=\"1mo\",\n",
    "            start=\"2021-01-01\",\n",
    "            end=f\"2022-01-01\",\n",
    "            auto_adjust=True,\n",
    "            rounding=True,\n",
    "            progress=False,\n",
    "            prepost=True,\n",
    "        )\n",
    "        return data.loc[:, \"Close\"].dropna()\n",
    "    except:\n",
    "        return None\n",
    "\n",
    "def calc_percentage_diff(start_price: float, end_price: float)-> float:\n",
    "    return round(end_price * 100 / start_price - 100, 2)\n",
    "\n",
    "def get_stocks_list()-> list:\n",
    "    table=pd.read_html(\"https://en.wikipedia.org/wiki/List_of_S%26P_500_companies\")\n",
    "    return list(table[0].to_dict()[\"Symbol\"].values())\n"
   ]
  },
  {
   "cell_type": "markdown",
   "metadata": {},
   "source": [
    "## How will this work? \n",
    "\n",
    "**Step by step:**\n",
    "\n",
    "- Get the S&P 500 ticker symbol closing price per year. For this example we will use IVV\n",
    "\n",
    "- Get all the stocks that make the S&P 500 ETF\n",
    "\n",
    "- Get the closing prices per month for each of the S&P 500 stocks\n",
    "\n",
    "- Determine which of the stocks that make the S&P 500 overperform against the ETF and which underperform"
   ]
  },
  {
   "cell_type": "code",
   "execution_count": 3,
   "metadata": {},
   "outputs": [],
   "source": [
    "symbols = get_stocks_list()"
   ]
  },
  {
   "cell_type": "code",
   "execution_count": 4,
   "metadata": {},
   "outputs": [],
   "source": [
    "# for symbol in symbols:\n",
    "appl_prices = get_closing_prices([\"AAPL\"])"
   ]
  },
  {
   "cell_type": "markdown",
   "metadata": {},
   "source": [
    "Calculate the difference from the first month to the last month in percentage"
   ]
  },
  {
   "cell_type": "code",
   "execution_count": 5,
   "metadata": {},
   "outputs": [
    {
     "name": "stdout",
     "output_type": "stream",
     "text": [
      "Last year growth for AAPL between 1st of Jan 2021 and 1st of Jan 2022 was 35.39%\n"
     ]
    }
   ],
   "source": [
    "prices = appl_prices.to_list()\n",
    "start_price = prices[0]\n",
    "last_price = prices[-1]\n",
    "aapl_growth = calc_percentage_diff(start_price, last_price)\n",
    "\n",
    "print(f\"Last year growth for AAPL between 1st of Jan 2021 and 1st of Jan 2022 was {aapl_growth}%\")"
   ]
  },
  {
   "cell_type": "markdown",
   "metadata": {},
   "source": [
    "Calculate the growth rate of the S&P 500 over the period of last year"
   ]
  },
  {
   "cell_type": "code",
   "execution_count": 6,
   "metadata": {},
   "outputs": [
    {
     "name": "stdout",
     "output_type": "stream",
     "text": [
      "IVV growth over the past year was 29.69%\n"
     ]
    }
   ],
   "source": [
    "closing_prices = get_closing_prices(\"IVV\")\n",
    "prices = closing_prices.to_list()\n",
    "start_price = prices[0]\n",
    "last_price = prices[-1]\n",
    "benchmark_growth = calc_percentage_diff(start_price, last_price)\n",
    "\n",
    "print(f\"IVV growth over the past year was {benchmark_growth}%\")"
   ]
  },
  {
   "cell_type": "markdown",
   "metadata": {},
   "source": [
    "Get all the symbols in S&P which outperform the fund"
   ]
  },
  {
   "cell_type": "code",
   "execution_count": 19,
   "metadata": {},
   "outputs": [
    {
     "name": "stdout",
     "output_type": "stream",
     "text": [
      "\n",
      "1 Failed download:\n",
      "- BRK.B: No data found, symbol may be delisted\n",
      "\n",
      "1 Failed download:\n",
      "- BF.B: No data found for this date range, symbol may be delisted\n",
      "\n",
      "1 Failed download:\n",
      "- CEG: Data doesn't exist for startDate = 1609459200, endDate = 1640995200\n",
      "\u001b[32mThere are 250 companies that performed better than the market\u001b[0m\n",
      "\u001b[31mThere are 252 companies that performed worst than the market\u001b[0m\n"
     ]
    }
   ],
   "source": [
    "from termcolor import colored\n",
    "\n",
    "overs = []\n",
    "unders = []\n",
    "\n",
    "for symbol in symbols:\n",
    "\tprices = get_closing_prices([symbol])\n",
    "\tif prices is None:\n",
    "\t\tcontinue\n",
    "\n",
    "\tprices = prices.to_list()\n",
    "\tif len(prices) == 0:\n",
    "\t\tcontinue\n",
    "\n",
    "\tsymbol_growth = calc_percentage_diff(prices[0], prices[-1])\n",
    "\n",
    "\tif symbol_growth > benchmark_growth:\n",
    "\t\tovers.append((symbol, symbol_growth))\n",
    "\telse:\n",
    "\t\tunders.append((symbol, symbol_growth))\n",
    "\n",
    "print(colored(f\"There are {len(overs)} companies that performed better than the market\", \"green\"))\n",
    "print(colored(f\"There are {len(unders)} companies that performed worst than the market\", \"red\"))"
   ]
  },
  {
   "cell_type": "markdown",
   "metadata": {},
   "source": [
    "### Top 5 over performers from last year"
   ]
  },
  {
   "cell_type": "markdown",
   "metadata": {},
   "source": [
    "First let's create a function that receives a list of symbols and returns back the yahoo finance tickers.\n",
    "\n",
    "We don't want to fetch the extra data if we are not going to use it."
   ]
  },
  {
   "cell_type": "code",
   "execution_count": 22,
   "metadata": {},
   "outputs": [],
   "source": [
    "import yfinance as yf\n",
    "from typing import List, Tuple\n",
    "\n",
    "def fetch_tickers(symbols: List[Tuple[str, float]])-> yf.Ticker:\n",
    "\tsymbols = [ o[0] for o in symbols ]\n",
    "\treturn [t.info for i, t in yf.Tickers(symbols).tickers.items()]"
   ]
  },
  {
   "cell_type": "code",
   "execution_count": 23,
   "metadata": {},
   "outputs": [
    {
     "name": "stdout",
     "output_type": "stream",
     "text": [
      "\u001b[32m1. Devon Energy Corporation DVN growth 178.94%\u001b[0m\n",
      "\u001b[32m2. Fortinet, Inc. FTNT growth 148.29%\u001b[0m\n",
      "\u001b[32m3. Nucor Corporation NUE growth 137.41%\u001b[0m\n"
     ]
    }
   ],
   "source": [
    "top = 3\n",
    "overs = sorted(overs, reverse=True, key=lambda x: x[1])\n",
    "top_overs = overs[0:top]\n",
    "tickers = fetch_tickers(top_overs)\n",
    "\n",
    "for i, o in enumerate(top_overs):\n",
    "\tcompany_name = tickers[i][\"longName\"]\n",
    "\tprint(colored(f\"{i + 1}. {company_name} {o[0]} growth {o[1]}%\", \"green\"))\n"
   ]
  },
  {
   "cell_type": "markdown",
   "metadata": {},
   "source": [
    "### Top 10 under performing stocks"
   ]
  },
  {
   "cell_type": "code",
   "execution_count": 24,
   "metadata": {},
   "outputs": [
    {
     "name": "stdout",
     "output_type": "stream",
     "text": [
      "\u001b[31m1. Penn National Gaming, Inc. PENN growth -50.01%\u001b[0m\n",
      "\u001b[31m2. Discovery, Inc. DISCA growth -43.17%\u001b[0m\n",
      "\u001b[31m3. Paramount Global PARA growth -36.87%\u001b[0m\n",
      "\u001b[31m4. Discovery, Inc. DISCK growth -34.63%\u001b[0m\n",
      "\u001b[31m5. Citrix Systems, Inc. CTXS growth -28.37%\u001b[0m\n",
      "\u001b[31m6. Activision Blizzard, Inc. ATVI growth -26.53%\u001b[0m\n",
      "\u001b[31m7. MarketAxess Holdings Inc. MKTX growth -23.52%\u001b[0m\n",
      "\u001b[31m8. Global Payments Inc. GPN growth -23.16%\u001b[0m\n",
      "\u001b[31m9. IPG Photonics Corporation IPGP growth -22.96%\u001b[0m\n",
      "\u001b[31m10. Las Vegas Sands Corp. LVS growth -21.73%\u001b[0m\n"
     ]
    }
   ],
   "source": [
    "top = 10\n",
    "unders = sorted(unders, reverse=False, key=lambda x: x[1])\n",
    "top_unders = unders[0:top]\n",
    "tickers = fetch_tickers(top_unders)\n",
    "\n",
    "for i, o in enumerate(top_unders):\n",
    "\tcompany_name = tickers[i][\"longName\"]\n",
    "\tprint(colored(f\"{i + 1}. {company_name} {o[0]} growth {o[1]}%\", \"red\"))"
   ]
  },
  {
   "cell_type": "markdown",
   "metadata": {},
   "source": [
    "### Check how the top performers and the top under performers ratios look like\n",
    "\n",
    "- We are going to fetch the top 3 performers and top 10 under performers and just compare their ratios\n",
    "\n",
    "- Ratios that we are going to consider:\n",
    "\n",
    "\t- P/E\n",
    "\t\n",
    "\t- EPS\n",
    "\n",
    "\t- Price/sales"
   ]
  },
  {
   "cell_type": "code",
   "execution_count": 50,
   "metadata": {},
   "outputs": [
    {
     "ename": "TypeError",
     "evalue": "float() argument must be a string or a number, not 'NoneType'",
     "output_type": "error",
     "traceback": [
      "\u001b[0;31m---------------------------------------------------------------------------\u001b[0m",
      "\u001b[0;31mTypeError\u001b[0m                                 Traceback (most recent call last)",
      "\u001b[1;32m/home/mihaiblebea/Coding/Python/trading-notebooks/trading.ipynb Cell 19'\u001b[0m in \u001b[0;36m<cell line: 22>\u001b[0;34m()\u001b[0m\n\u001b[1;32m     <a href='vscode-notebook-cell:/home/mihaiblebea/Coding/Python/trading-notebooks/trading.ipynb#ch0000019?line=28'>29</a>\u001b[0m \t\u001b[39melse\u001b[39;00m:\n\u001b[1;32m     <a href='vscode-notebook-cell:/home/mihaiblebea/Coding/Python/trading-notebooks/trading.ipynb#ch0000019?line=29'>30</a>\u001b[0m \t\tdata[\u001b[39m\"\u001b[39m\u001b[39mTrailing P/E\u001b[39m\u001b[39m\"\u001b[39m]\u001b[39m.\u001b[39mappend(round_it(d[\u001b[39m\"\u001b[39m\u001b[39mtrailingPE\u001b[39m\u001b[39m\"\u001b[39m]))\n\u001b[0;32m---> <a href='vscode-notebook-cell:/home/mihaiblebea/Coding/Python/trading-notebooks/trading.ipynb#ch0000019?line=30'>31</a>\u001b[0m \tdata[\u001b[39m\"\u001b[39m\u001b[39mForward P/E\u001b[39m\u001b[39m\"\u001b[39m]\u001b[39m.\u001b[39mappend(round_it(d[\u001b[39m\"\u001b[39;49m\u001b[39mforwardPE\u001b[39;49m\u001b[39m\"\u001b[39;49m]))\n\u001b[1;32m     <a href='vscode-notebook-cell:/home/mihaiblebea/Coding/Python/trading-notebooks/trading.ipynb#ch0000019?line=31'>32</a>\u001b[0m \tdata[\u001b[39m\"\u001b[39m\u001b[39mGrowth\u001b[39m\u001b[39m\"\u001b[39m]\u001b[39m.\u001b[39mappend(round_it(o[\u001b[39m1\u001b[39m]))\n\u001b[1;32m     <a href='vscode-notebook-cell:/home/mihaiblebea/Coding/Python/trading-notebooks/trading.ipynb#ch0000019?line=33'>34</a>\u001b[0m df \u001b[39m=\u001b[39m pd\u001b[39m.\u001b[39mDataFrame(data)\n",
      "\u001b[1;32m/home/mihaiblebea/Coding/Python/trading-notebooks/trading.ipynb Cell 19'\u001b[0m in \u001b[0;36mround_it\u001b[0;34m(value)\u001b[0m\n\u001b[1;32m      <a href='vscode-notebook-cell:/home/mihaiblebea/Coding/Python/trading-notebooks/trading.ipynb#ch0000019?line=4'>5</a>\u001b[0m \u001b[39mdef\u001b[39;00m \u001b[39mround_it\u001b[39m(value: \u001b[39mstr\u001b[39m)\u001b[39m-\u001b[39m\u001b[39m>\u001b[39m \u001b[39mfloat\u001b[39m:\n\u001b[0;32m----> <a href='vscode-notebook-cell:/home/mihaiblebea/Coding/Python/trading-notebooks/trading.ipynb#ch0000019?line=5'>6</a>\u001b[0m \t\u001b[39mreturn\u001b[39;00m \u001b[39mround\u001b[39m(\u001b[39mfloat\u001b[39;49m(value), \u001b[39m2\u001b[39m)\n",
      "\u001b[0;31mTypeError\u001b[0m: float() argument must be a string or a number, not 'NoneType'"
     ]
    }
   ],
   "source": [
    "import yfinance as yf\n",
    "\n",
    "TOP = 10\n",
    "\n",
    "def round_it(value: str)-> float:\n",
    "\treturn round(float(value), 2)\n",
    "\n",
    "def select_and_sort(data: list, limit: int, reverse: bool = False)-> list:\n",
    "\treturn sorted(data, reverse=reverse, key=lambda x: x[1])[0:limit]\n",
    "\n",
    "top_overs = select_and_sort(overs, TOP, True)\n",
    "top_unders = select_and_sort(unders, TOP)\n",
    "\n",
    "data = {\n",
    "\t\"Company\": [],\n",
    "\t\"Symbol\": [],\n",
    "\t\"Trailing P/E\": [],\n",
    "\t\"Forward P/E\": [],\n",
    "\t\"Growth\": [],\n",
    "}\n",
    "\n",
    "for o in top_overs + top_unders:\n",
    "\tticker = yf.Ticker(o[0])\n",
    "\td = ticker.info\n",
    "\tdata[\"Company\"].append(d[\"longName\"])\n",
    "\tdata[\"Symbol\"].append(o[0])\n",
    "\tif \"trailingPE\" not in d:\n",
    "\t\tdata[\"Trailing P/E\"].append(\"N/A\")\n",
    "\telse:\n",
    "\t\tdata[\"Trailing P/E\"].append(round_it(d[\"trailingPE\"]))\n",
    "\tdata[\"Forward P/E\"].append(round_it(d[\"forwardPE\"]))\n",
    "\tdata[\"Growth\"].append(round_it(o[1]))\n",
    "\n",
    "df = pd.DataFrame(data)\n",
    "print(df)"
   ]
  }
 ],
 "metadata": {
  "interpreter": {
   "hash": "52d57404a46c9ebabe6e54387707aac99e43fbd56fed4ed15e610cc2a735248c"
  },
  "kernelspec": {
   "display_name": "Python 3.9.2 ('env': venv)",
   "language": "python",
   "name": "python3"
  },
  "language_info": {
   "codemirror_mode": {
    "name": "ipython",
    "version": 3
   },
   "file_extension": ".py",
   "mimetype": "text/x-python",
   "name": "python",
   "nbconvert_exporter": "python",
   "pygments_lexer": "ipython3",
   "version": "3.9.7"
  },
  "orig_nbformat": 4
 },
 "nbformat": 4,
 "nbformat_minor": 2
}
