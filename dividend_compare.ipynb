{
 "cells": [
  {
   "cell_type": "markdown",
   "metadata": {},
   "source": [
    "## Dividend Yeld\n",
    "\n",
    "The dividend yield, expressed as a percentage, is a financial ratio (dividend/price) that shows how much a company pays out in dividends each year relative to its stock price.\n",
    "\n",
    "- The dividend yield—displayed as a percentage—is the amount of money a company pays shareholders for owning a share of its stock divided by its current stock price.\n",
    "\n",
    "- Mature companies are the most likely to pay dividends.\n",
    "\n",
    "- Companies in the utility and consumer staple industries often having higher dividend yields. \n",
    "\n",
    "- Real estate investment trusts (REITs), master limited partnerships (MLPs), and business development companies (BDCs) pay higher than average dividends; however, the dividends from these companies are taxed at a higher rate. \n",
    "\n",
    "- It's important for investors to keep in mind that higher dividend yields do not always indicate attractive investment opportunities because the dividend yield of a stock may be elevated as the result of a declining stock price. \n",
    "\n",
    "[Read more](https://www.investopedia.com/terms/d/dividendyield.asp)"
   ]
  },
  {
   "cell_type": "code",
   "execution_count": 1,
   "metadata": {},
   "outputs": [],
   "source": [
    "symbols = [\"PEP\", \"KO\"]"
   ]
  },
  {
   "cell_type": "code",
   "execution_count": 3,
   "metadata": {},
   "outputs": [
    {
     "name": "stdout",
     "output_type": "stream",
     "text": [
      "                                           PEP            KO\n",
      "Forward Annual Dividend Rate 4             4.3          1.76\n",
      "Forward Annual Dividend Yield 4          2.59%         2.84%\n",
      "Trailing Annual Dividend Rate 3           4.25          1.68\n",
      "Trailing Annual Dividend Yield 3         2.56%         2.71%\n",
      "Dividend Date 3                   Mar 30, 2022  Mar 31, 2022\n",
      "Payout Ratio 4                          77.37%        74.67%\n"
     ]
    }
   ],
   "source": [
    "import warnings\n",
    "warnings.simplefilter(action=\"ignore\", category=FutureWarning)\n",
    "\n",
    "from yahoo_fin import stock_info\n",
    "import pandas as pd\n",
    "\n",
    "\n",
    "keys = [\n",
    "\t\"Forward Annual Dividend Rate 4\",\n",
    "\t\"Forward Annual Dividend Yield 4\",\n",
    "\t\"Trailing Annual Dividend Rate 3\",\n",
    "\t\"Trailing Annual Dividend Yield 3\",\n",
    "\t\"Dividend Date 3\",\n",
    "\t\"Payout Ratio 4\"\n",
    "]\n",
    "\n",
    "data = {}\n",
    "for s in symbols:\n",
    "\tdata[s] = []\n",
    "\n",
    "for s in symbols:\n",
    "\tstats = stock_info.get_stats(s.upper())\n",
    "\tattributes = {v: k for k, v in stats.to_dict()[\"Attribute\"].items()}\n",
    "\tdata[s] = [ stats[\"Value\"][attributes[k]] for k in keys ]\n",
    "\n",
    "df = pd.DataFrame(data=data, index=keys)\n",
    "print(df)"
   ]
  },
  {
   "cell_type": "markdown",
   "metadata": {},
   "source": [
    "## Calculate dividend amount in $ from these shares\n",
    "\n",
    "How to calculate DPS (Dividend Per Share)?\n",
    "\n",
    "DPS = EPS * DPR\n",
    "\n",
    "DPS - Dividend per Share\n",
    "\n",
    "EPS - Earnings per Share\n",
    "\n",
    "DPR - Dividend Payout Ratio"
   ]
  },
  {
   "cell_type": "code",
   "execution_count": 6,
   "metadata": {},
   "outputs": [
    {
     "name": "stdout",
     "output_type": "stream",
     "text": [
      "                                PEP          KO\n",
      "Payout Ratio 4               77.37%      74.67%\n",
      "EpsCurrentYear                 6.67        2.46\n",
      "EpsForward                     7.24        2.64\n",
      "DividendPerShareCurrent       $5.16       $1.84\n",
      "DividendPerShareForward        $5.6       $1.97\n",
      "LivePrice                   $167.47      $62.04\n",
      "For500Dividend           $14,952.68  $15,746.19\n"
     ]
    }
   ],
   "source": [
    "from lib.fundamentals import format_amount\n",
    "\n",
    "stats_keys = [\n",
    "\t\"Payout Ratio 4\"\n",
    "]\n",
    "\n",
    "def get_payout_ratio(symbol: str)-> str:\n",
    "\tstats = stock_info.get_stats(symbol.upper())\n",
    "\tattributes = {v: k for k, v in stats.to_dict()[\"Attribute\"].items()}\n",
    "\tpayout_ratio = stats[\"Value\"][attributes[\"Payout Ratio 4\"]]\n",
    "\t\n",
    "\treturn float(payout_ratio.replace(\"%\", \"\")) / 100\n",
    "\n",
    "def fmt_percentage_str(value: float)-> str:\n",
    "\treturn f\"{value * 100}%\"\n",
    "\n",
    "data = {}\n",
    "for s in symbols:\n",
    "\tdata[s] = []\n",
    "\n",
    "for s in symbols:\n",
    "\tquote = stock_info.get_quote_data(s.upper())\n",
    "\tprice = stock_info.get_live_price(s.upper())\n",
    "\n",
    "\tprice = round(price, 2)\n",
    "\n",
    "\teps_current = quote[\"epsCurrentYear\"]\n",
    "\teps_forward = quote[\"epsForward\"]\n",
    "\n",
    "\tpayout_ratio = get_payout_ratio(s.upper())\n",
    "\tdata[s].append(fmt_percentage_str(payout_ratio))\n",
    "\n",
    "\tdps_current = round(eps_current * payout_ratio, 2)\n",
    "\tdps_forward = round(eps_forward * payout_ratio, 2)\n",
    "\n",
    "\tinvestment_needed = 0\n",
    "\tif dps_forward > 0:\n",
    "\t\tinvestment_needed = round(price * 500 / dps_forward, 2)\n",
    "\n",
    "\tdata[s] = data[s] + [\n",
    "\t\teps_current,\n",
    "\t\teps_forward,\n",
    "\t\tformat_amount(dps_current),\n",
    "\t\tformat_amount(dps_forward),\n",
    "\t\tformat_amount(price),\n",
    "\t\tformat_amount(investment_needed)\n",
    "\t]\n",
    "\n",
    "\n",
    "dividend_keys = [\n",
    "\t\"EpsCurrentYear\", \n",
    "\t\"EpsForward\", \n",
    "\t\"DividendPerShareCurrent\", \n",
    "\t\"DividendPerShareForward\",\n",
    "\t\"LivePrice\",\n",
    "\t\"For500Dividend\"\n",
    "]\n",
    "\n",
    "df = pd.DataFrame(data=data, index=stats_keys + dividend_keys)\n",
    "print(df)"
   ]
  }
 ],
 "metadata": {
  "interpreter": {
   "hash": "87f5e34333cbbe21596c7c1c9f3be8cfa6912ae548c87f6c71bfa9ae7dcd3558"
  },
  "kernelspec": {
   "display_name": "Python 3.9.7 ('env': venv)",
   "language": "python",
   "name": "python3"
  },
  "language_info": {
   "codemirror_mode": {
    "name": "ipython",
    "version": 3
   },
   "file_extension": ".py",
   "mimetype": "text/x-python",
   "name": "python",
   "nbconvert_exporter": "python",
   "pygments_lexer": "ipython3",
   "version": "3.9.7"
  },
  "orig_nbformat": 4
 },
 "nbformat": 4,
 "nbformat_minor": 2
}
